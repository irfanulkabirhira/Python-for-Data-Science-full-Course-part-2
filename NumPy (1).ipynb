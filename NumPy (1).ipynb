{
 "cells": [
  {
   "cell_type": "markdown",
   "id": "176f92a5-1851-4c82-b7d7-bbde1af3642d",
   "metadata": {},
   "source": [
    "# NumPy Part-1"
   ]
  },
  {
   "cell_type": "code",
   "execution_count": null,
   "id": "e7614728-7b8d-41d4-b25f-c6e80fd092fc",
   "metadata": {},
   "outputs": [],
   "source": [
    "import numpy as np"
   ]
  },
  {
   "cell_type": "code",
   "execution_count": 3,
   "id": "65fd5aac-1857-4824-8bb0-0a732222e1ab",
   "metadata": {},
   "outputs": [
    {
     "name": "stdout",
     "output_type": "stream",
     "text": [
      "[1 2 3 4 5]\n",
      "<class 'numpy.ndarray'>\n"
     ]
    }
   ],
   "source": [
    "arr = np.array([1, 2, 3, 4, 5])\n",
    "print (arr)\n",
    "print(type(arr))"
   ]
  },
  {
   "cell_type": "code",
   "execution_count": 4,
   "id": "deae6927-d8c6-4581-a444-1f7d5caca956",
   "metadata": {},
   "outputs": [
    {
     "name": "stdout",
     "output_type": "stream",
     "text": [
      "[30 50 90]\n",
      "[ 200  600 2000]\n"
     ]
    }
   ],
   "source": [
    "a = np.array([20,30,40])\n",
    "b = np.array([10,20,50])\n",
    "# Sum\n",
    "print(a+b)\n",
    "#Multiply\n",
    "print(a*b)"
   ]
  },
  {
   "cell_type": "code",
   "execution_count": 5,
   "id": "65165e93-4eee-478b-bf8d-d45a21735868",
   "metadata": {},
   "outputs": [
    {
     "name": "stdout",
     "output_type": "stream",
     "text": [
      "[1 2 3 4 5]\n",
      "<class 'numpy.ndarray'>\n"
     ]
    }
   ],
   "source": [
    "arr = np.array((1, 2, 3, 4, 5))\n",
    "print (arr)\n",
    "print (type(arr))"
   ]
  },
  {
   "cell_type": "markdown",
   "id": "be0ab50d-b637-4836-a3ea-b9f076e24e13",
   "metadata": {},
   "source": [
    "# Demension in Array "
   ]
  },
  {
   "cell_type": "code",
   "execution_count": 6,
   "id": "d769bb14-cb41-401e-9982-c3dcb05cdd39",
   "metadata": {},
   "outputs": [
    {
     "name": "stdout",
     "output_type": "stream",
     "text": [
      "20\n",
      "<class 'numpy.ndarray'>\n",
      "0\n"
     ]
    }
   ],
   "source": [
    "arr = np.array(20)\n",
    "print (arr)\n",
    "print (type(arr))\n",
    "print(arr.ndim)"
   ]
  },
  {
   "cell_type": "markdown",
   "id": "b27f0f14-823b-4a77-b4d5-632184602c52",
   "metadata": {},
   "source": [
    "# 1D array "
   ]
  },
  {
   "cell_type": "code",
   "execution_count": 7,
   "id": "e8cea7d4-0d32-4efa-bcba-d6ac2f8efb09",
   "metadata": {},
   "outputs": [
    {
     "name": "stdout",
     "output_type": "stream",
     "text": [
      "[1 2 3 4 5 6]\n",
      "1\n"
     ]
    }
   ],
   "source": [
    "arr = np.array([1, 2, 3 , 4, 5, 6])\n",
    "print (arr)\n",
    "print (arr.ndim)"
   ]
  },
  {
   "cell_type": "markdown",
   "id": "4078f38b-000d-458f-b1d7-4bce9c503caf",
   "metadata": {},
   "source": [
    "# 2D Array "
   ]
  },
  {
   "cell_type": "code",
   "execution_count": 8,
   "id": "65b5d66b-ad96-4492-b563-362aa3a0a204",
   "metadata": {},
   "outputs": [
    {
     "name": "stdout",
     "output_type": "stream",
     "text": [
      "[[1 2 3]\n",
      " [4 5 6]]\n",
      "2\n"
     ]
    }
   ],
   "source": [
    "arr = np.array([[1, 2, 3],[4, 5, 6]])\n",
    "print (arr)\n",
    "print (arr.ndim)"
   ]
  },
  {
   "cell_type": "code",
   "execution_count": 9,
   "id": "f5e3fa02-27e9-449e-aa6c-ff028957e111",
   "metadata": {},
   "outputs": [
    {
     "name": "stdout",
     "output_type": "stream",
     "text": [
      "[[1.1 2.2 3.3]\n",
      " [4.4 5.5 6.6]]\n",
      "2\n"
     ]
    }
   ],
   "source": [
    "arr = np.array([[1.1 , 2.2, 3.3], [4.4, 5.5, 6.6] ])\n",
    "print(arr)\n",
    "print (arr.ndim)"
   ]
  },
  {
   "cell_type": "markdown",
   "id": "6018b289-7df7-4466-b294-9d77d2fb99d2",
   "metadata": {},
   "source": [
    "# 3D Array "
   ]
  },
  {
   "cell_type": "code",
   "execution_count": 10,
   "id": "133db703-ced1-4abb-bda6-6eb5a1dc5a4a",
   "metadata": {},
   "outputs": [
    {
     "name": "stdout",
     "output_type": "stream",
     "text": [
      "[[[1 2 3]\n",
      "  [4 5 6]]\n",
      "\n",
      " [[1 2 3]\n",
      "  [4 5 6]]]\n",
      "3\n"
     ]
    }
   ],
   "source": [
    "arr= np.array([[[1, 2, 3],[4,5,6]], [[1, 2, 3], [4, 5, 6]]] )\n",
    "print (arr)\n",
    "print(arr.ndim)"
   ]
  },
  {
   "cell_type": "markdown",
   "id": "be6cc602-3f62-4ad6-975e-e26d826fc2c1",
   "metadata": {},
   "source": [
    "# 0 , 1, 2, 3 Dimension in fram "
   ]
  },
  {
   "cell_type": "code",
   "execution_count": 11,
   "id": "334e7642-7061-47b1-978f-bc3c5ad73201",
   "metadata": {},
   "outputs": [
    {
     "name": "stdout",
     "output_type": "stream",
     "text": [
      "0\n",
      "1\n",
      "2\n",
      "3\n"
     ]
    }
   ],
   "source": [
    "a = np.array(42)\n",
    "b = np.array([1, 2, 3 ,4, 5])\n",
    "c = np.array([[1, 2, 3], [4, 5, 6]])\n",
    "d = np.array([[[1, 2, 3], [4,5, 6]] , [[1, 2, 3],[4, 5, 6]]])\n",
    "\n",
    "print(a.ndim)\n",
    "print(b.ndim)\n",
    "print(c.ndim)\n",
    "print(d.ndim)"
   ]
  },
  {
   "cell_type": "markdown",
   "id": "399e11bb-55cf-44b5-bcb3-acf6469c0c4c",
   "metadata": {},
   "source": [
    "# Higher Dimension Array "
   ]
  },
  {
   "cell_type": "code",
   "execution_count": 12,
   "id": "1db10942-d5bb-4252-9a53-33624823a54f",
   "metadata": {},
   "outputs": [
    {
     "name": "stdout",
     "output_type": "stream",
     "text": [
      "[[[[[1 2 3 4]]]]]\n",
      "number of dimensions :  5\n"
     ]
    }
   ],
   "source": [
    "arr = np.array([1, 2, 3, 4],ndmin = 5)\n",
    "print (arr)\n",
    "print ('number of dimensions : ',arr.ndim)"
   ]
  },
  {
   "cell_type": "code",
   "execution_count": 13,
   "id": "e373aefe-3ae8-42e3-89b2-e35024dff40f",
   "metadata": {},
   "outputs": [
    {
     "name": "stdout",
     "output_type": "stream",
     "text": [
      "[[[[[1 2 3 4 5]]]]]\n",
      "5\n"
     ]
    }
   ],
   "source": [
    "a = np.array([[[[[1, 2, 3, 4, 5]]]]])\n",
    "print(a)\n",
    "print(a.ndim)"
   ]
  },
  {
   "cell_type": "markdown",
   "id": "2a888003-c928-4757-9754-c119323c02b7",
   "metadata": {},
   "source": [
    "# Numpy Array Indexing "
   ]
  },
  {
   "cell_type": "raw",
   "id": "6c20f365-c24b-407e-81c8-77d90040654f",
   "metadata": {},
   "source": [
    "Array indexing is the same as accessing an array element.\n",
    "You can access an array element by referring to its index number.\n",
    "The indexes in Numpy arrays start with 0 , meaning that the first element has index 0 , the second has index 1 etc."
   ]
  },
  {
   "cell_type": "markdown",
   "id": "4547bc0f-094f-4c8c-b628-9967d9381ff1",
   "metadata": {},
   "source": [
    "# Get the first element from the following arrays & Add them"
   ]
  },
  {
   "cell_type": "code",
   "execution_count": 14,
   "id": "4866f040-9ab6-49ac-81f0-9e9d767c32cc",
   "metadata": {},
   "outputs": [
    {
     "name": "stdout",
     "output_type": "stream",
     "text": [
      "1\n"
     ]
    }
   ],
   "source": [
    "arr = np.array([1, 2 , 3, 4 ])\n",
    "print (arr[0])"
   ]
  },
  {
   "cell_type": "markdown",
   "id": "25491b42-312b-42f3-bb36-450638949c84",
   "metadata": {},
   "source": [
    "# Get third and sixth and 8th elements from the following arrays and add them ."
   ]
  },
  {
   "cell_type": "code",
   "execution_count": 15,
   "id": "d6a40648-bb83-4322-92de-e27b927b6ee2",
   "metadata": {},
   "outputs": [
    {
     "name": "stdout",
     "output_type": "stream",
     "text": [
      "the secoond element is  34\n",
      "the sixth element is  39\n",
      "the 8th element is  90\n",
      "sum of these elements are  163\n"
     ]
    }
   ],
   "source": [
    "m = np.array ([41, 87, 34, 56, 8, 39 , 23, 90, 15, 10 , 19 , 56])\n",
    "print(\"the secoond element is \", m[2])\n",
    "print(\"the sixth element is \", m[5])\n",
    "print(\"the 8th element is \", m[7])\n",
    "print(\"sum of these elements are \", m[2]+m[5]+m[7])"
   ]
  },
  {
   "cell_type": "markdown",
   "id": "c8cd6470-f52c-4f9c-8b38-7fe53eef7fb2",
   "metadata": {},
   "source": [
    "# Access 2 D array "
   ]
  },
  {
   "cell_type": "code",
   "execution_count": 18,
   "id": "62a80f25-4b71-4c0d-a241-46cca2617bdc",
   "metadata": {},
   "outputs": [
    {
     "name": "stdout",
     "output_type": "stream",
     "text": [
      "2nd element on 1st row:  20\n"
     ]
    }
   ],
   "source": [
    "arr = np.array([[10 , 20 , 30 , 40 , 50 ] , [60, 70 , 80 , 90, 100]])\n",
    "print ('2nd element on 1st row: ',arr[0, 1])"
   ]
  },
  {
   "cell_type": "code",
   "execution_count": 19,
   "id": "9e25d3c1-8280-4575-886b-5447cf41ef16",
   "metadata": {},
   "outputs": [
    {
     "name": "stdout",
     "output_type": "stream",
     "text": [
      "1nd element on 2nd row:  60\n"
     ]
    }
   ],
   "source": [
    "arr = np.array([[10 , 20 , 30 , 40 , 50 ] , [60, 70 , 80 , 90, 100]])\n",
    "print ('1nd element on 2nd row: ',arr[1, 0])"
   ]
  },
  {
   "cell_type": "code",
   "execution_count": 21,
   "id": "217bc674-b019-433a-906d-4ef228a6b260",
   "metadata": {},
   "outputs": [
    {
     "name": "stdout",
     "output_type": "stream",
     "text": [
      "4th element on 1nd row is 40\n"
     ]
    }
   ],
   "source": [
    "arr = np.array([[10 , 20 , 30 , 40 , 50 ] , [60, 70 , 80 , 90, 100]])\n",
    "print('4th element on 1nd row is', arr[0,3])"
   ]
  },
  {
   "cell_type": "code",
   "execution_count": 22,
   "id": "a7b52c63-c9e5-4786-a9d9-9383b815bee3",
   "metadata": {},
   "outputs": [
    {
     "name": "stdout",
     "output_type": "stream",
     "text": [
      "1st element on 1nd row is 60\n"
     ]
    }
   ],
   "source": [
    "arr = np.array([[10 , 20 , 30 , 40 , 50 ] , [60, 70 , 80 , 90, 100]])\n",
    "print('1st element on 1nd row is', arr[1,0])"
   ]
  },
  {
   "cell_type": "code",
   "execution_count": 23,
   "id": "b7f4ad00-ac44-4e6b-8af9-5c4b7bdb5e4d",
   "metadata": {},
   "outputs": [
    {
     "name": "stdout",
     "output_type": "stream",
     "text": [
      "last element on 2nd row is 100\n"
     ]
    }
   ],
   "source": [
    "arr = np.array([[10 , 20 , 30 , 40 , 50 ] , [60, 70 , 80 , 90, 100]])\n",
    "print('last element on 2nd row is', arr[1,4])"
   ]
  },
  {
   "cell_type": "markdown",
   "id": "75c8214d-e068-4e17-99dd-764882e4eb02",
   "metadata": {},
   "source": [
    "# Add the first element of the row 1 and last element "
   ]
  },
  {
   "cell_type": "code",
   "execution_count": 25,
   "id": "9ceade3b-130a-4556-8b15-35c7feb1abdd",
   "metadata": {},
   "outputs": [
    {
     "name": "stdout",
     "output_type": "stream",
     "text": [
      "First element of 1st row: 10\n",
      "last element on 2nd row is 100\n",
      "Sum is  110\n"
     ]
    }
   ],
   "source": [
    "arr = np.array([[10 , 20 , 30 , 40 , 50 ] , [60, 70 , 80 , 90, 100]])\n",
    "\n",
    "print ('First element of 1st row:', arr[0,0])\n",
    "print('last element on 2nd row is', arr[1,4])\n",
    "print(\"Sum is \", arr[0,0]+arr[1,4])"
   ]
  },
  {
   "cell_type": "markdown",
   "id": "e5398782-f497-4d5c-8af7-07487fb5e814",
   "metadata": {},
   "source": [
    "# Access 3-D array "
   ]
  },
  {
   "cell_type": "raw",
   "id": "f31ad831-9af1-4eb8-8175-79c3723ca214",
   "metadata": {},
   "source": [
    "To access elements from 3D arrays we can use common separated integers representing the dimension and the index\n",
    "of the element "
   ]
  },
  {
   "cell_type": "markdown",
   "id": "aa6b78f9-2556-486d-bb64-3e5f13e4f6f6",
   "metadata": {},
   "source": [
    "# Accsess the third element of the second array of the first array "
   ]
  },
  {
   "cell_type": "code",
   "execution_count": 26,
   "id": "a09db7d7-26c3-4845-a6f7-289523fa00e0",
   "metadata": {},
   "outputs": [
    {
     "name": "stdout",
     "output_type": "stream",
     "text": [
      "6\n"
     ]
    }
   ],
   "source": [
    "arr = np.array([[[1, 2, 3], [4,5,6]] , [[7, 8 , 9], [10,11,12]]])\n",
    "print (arr[0,1,2])"
   ]
  },
  {
   "cell_type": "code",
   "execution_count": 27,
   "id": "33f0c432-270b-41b7-835a-aeae6a4ad471",
   "metadata": {},
   "outputs": [
    {
     "name": "stdout",
     "output_type": "stream",
     "text": [
      "12\n"
     ]
    }
   ],
   "source": [
    "arr = np.array([[[1, 2, 3], [4,5,6]] , [[7, 8 , 9], [10,11,12]]])\n",
    "print(arr[1,1,2])"
   ]
  },
  {
   "cell_type": "code",
   "execution_count": 28,
   "id": "d81c543d-3011-43ca-a6c1-2a5a5586791e",
   "metadata": {},
   "outputs": [
    {
     "name": "stdout",
     "output_type": "stream",
     "text": [
      "[1 3 5 7]\n"
     ]
    }
   ],
   "source": [
    "arr =np.array([1,2,3,4,5,6,7])\n",
    "print (arr[::2]) # Skipping 1 index every time "
   ]
  },
  {
   "cell_type": "code",
   "execution_count": 29,
   "id": "0adc0376-9469-4f23-827d-e12d3ae83276",
   "metadata": {},
   "outputs": [
    {
     "name": "stdout",
     "output_type": "stream",
     "text": [
      "[10 20 30 40]\n"
     ]
    }
   ],
   "source": [
    "a = np.array([[10,20,30,40,50] , [60,70,80,90,100]])\n",
    "print (a[0,0:4])"
   ]
  },
  {
   "cell_type": "markdown",
   "id": "abaa47ff-faaa-430b-9f9a-2547d6241e3d",
   "metadata": {},
   "source": [
    "# Cecking the Data type of an Array "
   ]
  },
  {
   "cell_type": "code",
   "execution_count": 31,
   "id": "c1362100-1bbf-49d4-9cb0-a0bcad657667",
   "metadata": {},
   "outputs": [
    {
     "name": "stdout",
     "output_type": "stream",
     "text": [
      "int32\n"
     ]
    }
   ],
   "source": [
    "arr =np.array([1,2,3,4])\n",
    "print (arr.dtype)"
   ]
  },
  {
   "cell_type": "code",
   "execution_count": 32,
   "id": "b6881388-c4fc-4831-8cc8-6b2f6e017992",
   "metadata": {},
   "outputs": [
    {
     "name": "stdout",
     "output_type": "stream",
     "text": [
      "<U5\n"
     ]
    }
   ],
   "source": [
    "arr = np.array(['Hira','jira','Sohag'])\n",
    "print(arr.dtype)"
   ]
  },
  {
   "cell_type": "markdown",
   "id": "23524a48-3e7f-47ef-afe1-0baacab84c92",
   "metadata": {},
   "source": [
    "# Creating array with a defined Data Type"
   ]
  },
  {
   "cell_type": "code",
   "execution_count": 33,
   "id": "8695fb74-ebd8-4c85-9075-fe7aaeabfe00",
   "metadata": {},
   "outputs": [
    {
     "name": "stdout",
     "output_type": "stream",
     "text": [
      "[b'1' b'2' b'3' b'4']\n",
      "|S1\n"
     ]
    }
   ],
   "source": [
    "arr = np.array([1,2,3,4],dtype='S')\n",
    "print (arr)\n",
    "print(arr.dtype)"
   ]
  },
  {
   "cell_type": "raw",
   "id": "7f6b5970-63e0-4441-8aef-4fab3631b100",
   "metadata": {},
   "source": [
    "Creat an array with data type 4 bytes Data types"
   ]
  },
  {
   "cell_type": "code",
   "execution_count": 34,
   "id": "9c7d482f-6ef9-4fab-8a63-e0554deaa8a3",
   "metadata": {},
   "outputs": [
    {
     "name": "stdout",
     "output_type": "stream",
     "text": [
      "[1 2 3 4]\n",
      "int32\n"
     ]
    }
   ],
   "source": [
    "arr = np.array([1,2,3,4],dtype ='i4')\n",
    "print (arr)\n",
    "print(arr.dtype)"
   ]
  },
  {
   "cell_type": "markdown",
   "id": "52b03785-2ab1-414f-928c-4d4857894f19",
   "metadata": {},
   "source": [
    "# Numpy Array Shape"
   ]
  },
  {
   "cell_type": "raw",
   "id": "b2bd1a03-aa1d-4bbc-b4c6-0ae619e28996",
   "metadata": {},
   "source": [
    "the sahape of an array is the number of element in each dimension "
   ]
  },
  {
   "cell_type": "markdown",
   "id": "3894be79-e5f6-42a6-ab37-2da080766cd6",
   "metadata": {},
   "source": [
    "# print the shape of a 2D array "
   ]
  },
  {
   "cell_type": "code",
   "execution_count": 36,
   "id": "d9ff2c46-f009-4b1d-93c4-5b0a8fed2cbd",
   "metadata": {},
   "outputs": [
    {
     "name": "stdout",
     "output_type": "stream",
     "text": [
      "(2, 4)\n"
     ]
    }
   ],
   "source": [
    "arr = np.array([[1,2,3,4],[5,6,7,8]])\n",
    "print (arr.shape)"
   ]
  },
  {
   "cell_type": "code",
   "execution_count": 37,
   "id": "1cfce39f-92ac-452a-9764-7d1c6bad40bf",
   "metadata": {},
   "outputs": [
    {
     "name": "stdout",
     "output_type": "stream",
     "text": [
      "(1, 3, 4)\n"
     ]
    }
   ],
   "source": [
    "arr = np.array([[[1,2,3,4],[5,6,7,8],[5,6,7,8]]])\n",
    "print (arr.shape)"
   ]
  },
  {
   "cell_type": "markdown",
   "id": "642ee01d-6015-47b7-b867-ccd3fae11d32",
   "metadata": {},
   "source": [
    "# Joining Numpy Arrays"
   ]
  },
  {
   "cell_type": "code",
   "execution_count": 38,
   "id": "e3245545-ed3c-49f4-b46a-9bb3948af049",
   "metadata": {},
   "outputs": [
    {
     "name": "stdout",
     "output_type": "stream",
     "text": [
      "[1 2 3 4 5 6]\n"
     ]
    }
   ],
   "source": [
    "arr1=np.array([1,2,3])\n",
    "arr2=np.array([4,5,6])\n",
    "arr =np.concatenate((arr1,arr2))\n",
    "print (arr)"
   ]
  },
  {
   "cell_type": "markdown",
   "id": "5c311be0-ad71-4cfa-85fb-812eeb0bfb72",
   "metadata": {},
   "source": [
    "# Join 2D array "
   ]
  },
  {
   "cell_type": "code",
   "execution_count": 39,
   "id": "3bb6bf05-0175-4f4e-8c97-877441d801a9",
   "metadata": {},
   "outputs": [
    {
     "name": "stdout",
     "output_type": "stream",
     "text": [
      "[[1 2 5 6]\n",
      " [3 4 7 8]]\n"
     ]
    }
   ],
   "source": [
    "arr1 = np.array([[1,2],[3,4]])\n",
    "arr2 = np.array([[5,6],[7,8]])\n",
    "arr =np.concatenate((arr1,arr2), axis =1)\n",
    "print (arr)"
   ]
  },
  {
   "cell_type": "code",
   "execution_count": 41,
   "id": "a7d9218a-6adb-4d3a-97c7-6afd7b916586",
   "metadata": {},
   "outputs": [
    {
     "name": "stdout",
     "output_type": "stream",
     "text": [
      "[[1 2]\n",
      " [3 4]\n",
      " [5 6]\n",
      " [7 8]]\n"
     ]
    }
   ],
   "source": [
    "arr1 = np.array([[1,2],[3,4]])\n",
    "arr2 = np.array([[5,6],[7,8]])\n",
    "arr =np.concatenate((arr1,arr2), axis =0)\n",
    "print (arr)"
   ]
  },
  {
   "cell_type": "markdown",
   "id": "025a82a4-d3a6-41b3-b90e-2cb0b7c6587d",
   "metadata": {},
   "source": [
    "# Splitting Numpy Arrays"
   ]
  },
  {
   "cell_type": "code",
   "execution_count": 42,
   "id": "48dda322-60ee-4038-b2ef-89b2c3188672",
   "metadata": {},
   "outputs": [
    {
     "name": "stdout",
     "output_type": "stream",
     "text": [
      "[array([1, 2]), array([3, 4]), array([5, 6])]\n"
     ]
    }
   ],
   "source": [
    "arr = np.array([1,2,3,4,5,6])\n",
    "\n",
    "newarr = np.array_split(arr,3)\n",
    "print (newarr)"
   ]
  },
  {
   "cell_type": "markdown",
   "id": "ca10bb23-5bea-4327-acd3-1c6d8f791654",
   "metadata": {},
   "source": [
    "# Splititng array in 4 parts"
   ]
  },
  {
   "cell_type": "code",
   "execution_count": 43,
   "id": "1a92ede5-4c64-42a0-a544-ab1c596007a6",
   "metadata": {},
   "outputs": [
    {
     "name": "stdout",
     "output_type": "stream",
     "text": [
      "[array([1, 2]), array([3, 4]), array([5]), array([6])]\n"
     ]
    }
   ],
   "source": [
    "arr = np.array([1,2,3,4,5,6])\n",
    "\n",
    "newarr = np.array_split(arr,4)\n",
    "print (newarr)"
   ]
  },
  {
   "cell_type": "markdown",
   "id": "985684ff-0348-46ab-8702-7660eafc0de1",
   "metadata": {},
   "source": [
    "# Ravel and Flatten"
   ]
  },
  {
   "cell_type": "raw",
   "id": "81edc607-004e-4b05-ada2-394a4b60698d",
   "metadata": {},
   "source": [
    "converts multidimenssional into 1D array "
   ]
  },
  {
   "cell_type": "code",
   "execution_count": 45,
   "id": "39f48735-581b-434a-a620-cb1c210a17cf",
   "metadata": {},
   "outputs": [
    {
     "name": "stdout",
     "output_type": "stream",
     "text": [
      "[[[1 2 3]\n",
      "  [4 5 6]\n",
      "  [7 8 9]]]\n",
      "Dimension is  3\n",
      "[1 2 3 4 5 6 7 8 9]\n",
      "Now the new Dimenssion is 1\n"
     ]
    }
   ],
   "source": [
    "m = np.array([[[1, 2, 3] , [4,5,6], [7,8,9]]])\n",
    "print (m)\n",
    "print(\"Dimension is \",m.ndim)\n",
    "\n",
    "n=m.ravel()\n",
    "print(n)\n",
    "print(\"Now the new Dimenssion is\",n.ndim)"
   ]
  },
  {
   "cell_type": "code",
   "execution_count": 46,
   "id": "22ea3476-e09c-4a20-bbb7-5350b3ff6b35",
   "metadata": {},
   "outputs": [
    {
     "name": "stdout",
     "output_type": "stream",
     "text": [
      "[[[1 2 3]\n",
      "  [4 5 6]\n",
      "  [7 8 9]]]\n",
      "Dimension is  3\n",
      "[1 2 3 4 5 6 7 8 9]\n",
      "Now the new Dimenssion is 1\n"
     ]
    }
   ],
   "source": [
    "m = np.array([[[1, 2, 3] , [4,5,6], [7,8,9]]])\n",
    "print (m)\n",
    "print(\"Dimension is \",m.ndim)\n",
    "\n",
    "n=m.flatten()\n",
    "print(n)\n",
    "print(\"Now the new Dimenssion is\",n.ndim)"
   ]
  },
  {
   "cell_type": "code",
   "execution_count": 47,
   "id": "8a869b77-4441-4f5a-a25f-52196f4e9f2a",
   "metadata": {},
   "outputs": [
    {
     "name": "stdout",
     "output_type": "stream",
     "text": [
      "[[[[ 1  2  3]\n",
      "   [78 89 25]\n",
      "   [45 26 84]]]]\n",
      "The dimension is 4\n",
      "[ 1  2  3 78 89 25 45 26 84]\n",
      "Now the new Dimension is 1\n"
     ]
    }
   ],
   "source": [
    "c= np.array([[[[1,2,3] ,[78,89,25],[45,26,84]]]])\n",
    "print(c)\n",
    "print (\"The dimension is\",c.ndim)\n",
    "d=c.ravel()\n",
    "print (d)\n",
    "print(\"Now the new Dimension is\",d.ndim)"
   ]
  },
  {
   "cell_type": "markdown",
   "id": "476c2e13-c785-4b1b-acd3-0a3c32901f8e",
   "metadata": {},
   "source": [
    "# Uniqe Funciton"
   ]
  },
  {
   "cell_type": "code",
   "execution_count": 48,
   "id": "7a86b8cc-558c-4a5d-9c91-736427f7897a",
   "metadata": {},
   "outputs": [
    {
     "name": "stdout",
     "output_type": "stream",
     "text": [
      "[12  1  4  6  7  9  3  4  5 22 33  7  6  9  1  2 12]\n",
      "[ 1  2  3  4  5  6  7  9 12 22 33]\n"
     ]
    }
   ],
   "source": [
    "k = np.array([12,1,4,6,7,9,3,4,5,22,33,7,6,9,1,2,12])\n",
    "print(k)\n",
    "x= np.unique(k)\n",
    "print(x)"
   ]
  },
  {
   "cell_type": "code",
   "execution_count": 49,
   "id": "42467663-575a-4c62-a97b-0bbd09f23b87",
   "metadata": {},
   "outputs": [
    {
     "name": "stdout",
     "output_type": "stream",
     "text": [
      "[12  1  4  6  7  9  3  4  5 22 33  7  6  9  1  2 12]\n",
      "(array([ 1,  2,  3,  4,  5,  6,  7,  9, 12, 22, 33]), array([ 1, 15,  6,  2,  8,  3,  4,  5,  0,  9, 10], dtype=int64))\n"
     ]
    }
   ],
   "source": [
    "k = np.array([12,1,4,6,7,9,3,4,5,22,33,7,6,9,1,2,12])\n",
    "print(k)\n",
    "x= np.unique(k , return_index = True)\n",
    "print(x)"
   ]
  },
  {
   "cell_type": "code",
   "execution_count": 50,
   "id": "ce256fd6-4c02-46f3-97f0-4811ffa59e44",
   "metadata": {},
   "outputs": [
    {
     "name": "stdout",
     "output_type": "stream",
     "text": [
      "[12  1  4  6  7  9  3  4  5 22 33  7  6  9  1  2 12]\n",
      "(array([ 1,  2,  3,  4,  5,  6,  7,  9, 12, 22, 33]), array([ 1, 15,  6,  2,  8,  3,  4,  5,  0,  9, 10], dtype=int64), array([2, 1, 1, 2, 1, 2, 2, 2, 2, 1, 1], dtype=int64))\n"
     ]
    }
   ],
   "source": [
    "k = np.array([12,1,4,6,7,9,3,4,5,22,33,7,6,9,1,2,12])\n",
    "print(k)\n",
    "x= np.unique(k , return_index = True , return_counts = True)\n",
    "print(x)"
   ]
  },
  {
   "cell_type": "code",
   "execution_count": null,
   "id": "46131294-27ff-42eb-ac92-2d6a52bbef9b",
   "metadata": {},
   "outputs": [],
   "source": []
  }
 ],
 "metadata": {
  "kernelspec": {
   "display_name": "Python 3 (ipykernel)",
   "language": "python",
   "name": "python3"
  },
  "language_info": {
   "codemirror_mode": {
    "name": "ipython",
    "version": 3
   },
   "file_extension": ".py",
   "mimetype": "text/x-python",
   "name": "python",
   "nbconvert_exporter": "python",
   "pygments_lexer": "ipython3",
   "version": "3.11.7"
  }
 },
 "nbformat": 4,
 "nbformat_minor": 5
}
